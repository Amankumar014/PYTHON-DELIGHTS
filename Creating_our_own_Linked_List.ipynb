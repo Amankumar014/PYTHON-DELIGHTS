{
 "cells": [
  {
   "cell_type": "markdown",
   "id": "3c67d2a4-d816-45be-b69b-4addb1441045",
   "metadata": {},
   "source": [
    "### Here we are going create our own linked list and also cover all the properties and operations of a linked list . Followed by doing few questions on Linked list . "
   ]
  },
  {
   "cell_type": "code",
   "execution_count": 203,
   "id": "96857590-780d-4bc2-8284-66b03dcc805f",
   "metadata": {},
   "outputs": [],
   "source": [
    "class Node:\n",
    "\n",
    "    def __init__(self,value):\n",
    "        self.data = value\n",
    "        self.next = None"
   ]
  },
  {
   "cell_type": "code",
   "execution_count": 204,
   "id": "c2133cb5-ed1a-44e3-933f-9e41967a2dde",
   "metadata": {},
   "outputs": [],
   "source": [
    "a = Node(1)"
   ]
  },
  {
   "cell_type": "code",
   "execution_count": 205,
   "id": "f199ef3f-1698-4add-a623-6b216f420dd7",
   "metadata": {},
   "outputs": [
    {
     "name": "stdout",
     "output_type": "stream",
     "text": [
      "1\n"
     ]
    }
   ],
   "source": [
    "print(a.data)"
   ]
  },
  {
   "cell_type": "code",
   "execution_count": 206,
   "id": "095f0e68-4290-4a2f-aead-778ceb115791",
   "metadata": {},
   "outputs": [],
   "source": [
    "class Node:\n",
    "\n",
    "    def __init__(self,value):\n",
    "        self.data = value\n",
    "        self.next = None"
   ]
  },
  {
   "cell_type": "code",
   "execution_count": 207,
   "id": "e91b981b-22aa-4a18-bcab-1bc2c27c9b79",
   "metadata": {},
   "outputs": [],
   "source": [
    "class LinkedList:\n",
    "\n",
    "    def __init__(self):\n",
    "        # create an empty linked list\n",
    "        self.head = None\n",
    "        # no of nodes in the LL\n",
    "        self.n = 0\n",
    "\n",
    "    def __len__(self):\n",
    "        return self.n\n",
    "\n",
    "    # *********** Insert From Head *************\n",
    "\n",
    "    def insert_head(self,value):\n",
    "        # new node \n",
    "        new_node = Node(value)\n",
    "        # create connection\n",
    "        new_node.next = self.head\n",
    "        # assign head\n",
    "        self.head = new_node\n",
    "        # increment n \n",
    "        self.n = self.n + 1\n",
    "\n",
    "    #*********** Traversing the Linked List ************\n",
    "\n",
    "    def __str__(self):\n",
    "        curr = self.head\n",
    "        result = ''\n",
    "        while curr != None:\n",
    "            result = result + str(curr.data) + '->'\n",
    "            curr = curr.next\n",
    "        return result[:-2]\n",
    "\n",
    "    # *********** Insert From Tail *************\n",
    "\n",
    "    def append(self,value):\n",
    "        new_node = Node(value)\n",
    "        if self.head == None:\n",
    "            # empty\n",
    "            self.head = new_node\n",
    "            self.n = self.n + 1\n",
    "            return\n",
    "            \n",
    "        curr = self.head\n",
    "        \n",
    "        while curr.next != None:\n",
    "            curr = curr.next\n",
    "        curr.next = new_node\n",
    "        self.n = self.n + 1\n",
    "\n",
    "    # ********** Insert after a node ************\n",
    "\n",
    "    def insert_between(self,after,value):\n",
    "        new_node = Node(value)\n",
    "        curr = self.head\n",
    "        while curr != None:\n",
    "            if curr.data == after:\n",
    "                break \n",
    "            curr = curr.next\n",
    "\n",
    "        # case 1 : break -> got the item -> curr is not none \n",
    "        if curr != None:\n",
    "            # logic\n",
    "            new_node.next = curr.next\n",
    "            curr.next = new_node\n",
    "            self.n = self.n + 1\n",
    "        else:\n",
    "            return 'Item not found'\n",
    "    # case 2 : loop will run upto end -> item not found -> current is none\n",
    "\n",
    "# ************************************** Emptying the linked list **********************************************\n",
    "\n",
    "    def clear(self):\n",
    "        self.head = None\n",
    "        self.n = 0\n",
    "\n",
    "    # ************ delete from head *************\n",
    "\n",
    "    def delete_head(self):\n",
    "        if self.head == None:\n",
    "            return 'Empty Linkedlist given'\n",
    "        self.head = self.head.next\n",
    "        self.n = self.n - 1\n",
    "\n",
    "    # ************ Delete from tail *************\n",
    "\n",
    "    def pop(self):\n",
    "        # checking if the linked list is empty\n",
    "        if self.head == None:\n",
    "            return 'Empty linked list provided'\n",
    "        curr = self.head\n",
    "        # checking if there is only one item in the linked list\n",
    "        if curr.next == None:\n",
    "            # delete from head \n",
    "            return self.delete_head()\n",
    "        while curr.next.next != None: # second last node\n",
    "            curr = curr.next\n",
    "        # curr -> 2nd last node\n",
    "        curr.next = None\n",
    "        self.n = self.n - 1\n",
    "\n",
    "    # ************** deleting from between ************\n",
    "\n",
    "    def remove_bet(self,value):\n",
    "        \n",
    "        if self.head == None:\n",
    "            return 'Empty linkedlist'\n",
    "            \n",
    "        if self.head.data == value:\n",
    "            return self.delete_head()\n",
    "            \n",
    "        curr = self.head\n",
    "        while curr.next != None:\n",
    "            if curr.next.data == value:\n",
    "                break\n",
    "            curr = curr.next\n",
    "\n",
    "            # got the item \n",
    "            if curr.next == None:\n",
    "                return 'Item not found'\n",
    "            else:\n",
    "                curr.next = curr.next.next\n",
    "\n",
    "# ************************************** Searching in a Linked List ****************************************************\n",
    "\n",
    "    # ******** Search by item *********\n",
    "\n",
    "    def search(self,item):\n",
    "        curr = self.head\n",
    "        pos = 0\n",
    "        while curr != None:\n",
    "            if curr.data == item:\n",
    "                return pos\n",
    "            curr = curr.next\n",
    "            pos = pos + 1\n",
    "        return 'Item not found'\n",
    "\n",
    "    # ********** Search by Index **********\n",
    "\n",
    "    def __getitem__(self,index):\n",
    "        curr = self.head\n",
    "        pos = 0\n",
    "\n",
    "        while curr != None:\n",
    "            if pos == index:\n",
    "                return curr.data\n",
    "            curr = curr.next \n",
    "            pos = pos + 1\n",
    "\n",
    "    # *************************************QUESTIONS ON LINKED LIST **********************************************\n",
    "\n",
    "    # Q1. Write a python program to find the maximum value in a linked list and replace it with a given value\n",
    "\n",
    "    def replace_maximum_value(self,value):\n",
    "        temp = self.head\n",
    "        max = temp\n",
    "        while temp != None:\n",
    "            if temp.data > max.data:\n",
    "                max = temp\n",
    "            temp = temp.next\n",
    "        max.data = value\n",
    "\n",
    "    # Q2.Sum of  the no at  the odd places in the linked list\n",
    "\n",
    "    def sum_odd_nodes(self):\n",
    "        temp = self.head\n",
    "        counter = 0\n",
    "        result = 0\n",
    "\n",
    "        while temp != None:\n",
    "            if counter%2 != 0:\n",
    "                result = result  + temp.data\n",
    "            counter += 1\n",
    "            temp = temp.next\n",
    "        print(result)\n",
    "\n",
    "    # Q3 . Python  program to reverse a linked list containing integer data \n",
    "\n",
    "    def reverse_linkedlist(self):\n",
    "        prev = None\n",
    "        current = self.head\n",
    "\n",
    "        while current != None:\n",
    "            next = current.next\n",
    "            current.next = prev\n",
    "            prev = current\n",
    "            current = next\n",
    "        self.head = prev\n",
    "            \n",
    "            \n",
    "            "
   ]
  },
  {
   "cell_type": "code",
   "execution_count": 208,
   "id": "ac008fd6-24bf-4bf9-88c8-ab2711286cac",
   "metadata": {},
   "outputs": [],
   "source": [
    "L = LinkedList()"
   ]
  },
  {
   "cell_type": "code",
   "execution_count": 209,
   "id": "b8374285-5c23-412b-8c17-2488d8fb69d1",
   "metadata": {},
   "outputs": [
    {
     "data": {
      "text/plain": [
       "'Item not found'"
      ]
     },
     "execution_count": 209,
     "metadata": {},
     "output_type": "execute_result"
    }
   ],
   "source": [
    "L.insert_between(2,50)"
   ]
  },
  {
   "cell_type": "code",
   "execution_count": 210,
   "id": "adea454c-e31e-41ae-ac43-fa584ce3c1fd",
   "metadata": {},
   "outputs": [],
   "source": [
    "L.insert_head(0)"
   ]
  },
  {
   "cell_type": "code",
   "execution_count": 211,
   "id": "84a59c37-c1db-4250-bc66-0cc549af0bf8",
   "metadata": {},
   "outputs": [],
   "source": [
    "L.insert_between(0,100)"
   ]
  },
  {
   "cell_type": "code",
   "execution_count": 212,
   "id": "1d6340e9-ad27-41e5-a11b-204bde88706d",
   "metadata": {},
   "outputs": [
    {
     "name": "stdout",
     "output_type": "stream",
     "text": [
      "0->100\n"
     ]
    }
   ],
   "source": [
    "print(L)"
   ]
  },
  {
   "cell_type": "code",
   "execution_count": 213,
   "id": "5c030352-1d45-4bf3-9ab0-eb8e0b5456a4",
   "metadata": {},
   "outputs": [],
   "source": [
    "L.insert_head(1)\n",
    "L.insert_head(2)\n",
    "L.insert_head(3)\n",
    "L.insert_head(4)"
   ]
  },
  {
   "cell_type": "code",
   "execution_count": 214,
   "id": "120a7a90-51e6-4206-aa3c-608aab8ca585",
   "metadata": {},
   "outputs": [
    {
     "name": "stdout",
     "output_type": "stream",
     "text": [
      "4->3->2->1->0->100\n"
     ]
    }
   ],
   "source": [
    "print(L)"
   ]
  },
  {
   "cell_type": "code",
   "execution_count": 215,
   "id": "6d1add7d-7e92-4560-9f38-a9897ca438bb",
   "metadata": {},
   "outputs": [],
   "source": [
    "L.insert_between(3,200)"
   ]
  },
  {
   "cell_type": "code",
   "execution_count": 216,
   "id": "cc96da94-1179-4541-bb7a-a559ee8229f3",
   "metadata": {},
   "outputs": [
    {
     "name": "stdout",
     "output_type": "stream",
     "text": [
      "4->3->200->2->1->0->100\n"
     ]
    }
   ],
   "source": [
    "print(L)"
   ]
  },
  {
   "cell_type": "code",
   "execution_count": 217,
   "id": "d6e1b483-b17d-4644-85e0-129580d1f056",
   "metadata": {},
   "outputs": [
    {
     "data": {
      "text/plain": [
       "7"
      ]
     },
     "execution_count": 217,
     "metadata": {},
     "output_type": "execute_result"
    }
   ],
   "source": [
    "len(L)"
   ]
  },
  {
   "cell_type": "code",
   "execution_count": 218,
   "id": "0610118c-d4b0-4c09-9c3f-5d2459ad5dee",
   "metadata": {},
   "outputs": [
    {
     "name": "stdout",
     "output_type": "stream",
     "text": [
      "4->3->200->2->1->0->100\n"
     ]
    }
   ],
   "source": [
    "print(L)"
   ]
  },
  {
   "cell_type": "code",
   "execution_count": 219,
   "id": "57674e74-87b5-432d-a476-5caf9625edd1",
   "metadata": {},
   "outputs": [],
   "source": [
    "L.append(5)"
   ]
  },
  {
   "cell_type": "code",
   "execution_count": 220,
   "id": "6ca5a0c6-3781-43cf-a7d8-bf3052c6a02b",
   "metadata": {},
   "outputs": [
    {
     "name": "stdout",
     "output_type": "stream",
     "text": [
      "4->3->200->2->1->0->100->5\n"
     ]
    }
   ],
   "source": [
    "print(L)"
   ]
  },
  {
   "cell_type": "code",
   "execution_count": 221,
   "id": "34e5debe-3a49-4841-8687-2d8ce90ce843",
   "metadata": {},
   "outputs": [
    {
     "data": {
      "text/plain": [
       "8"
      ]
     },
     "execution_count": 221,
     "metadata": {},
     "output_type": "execute_result"
    }
   ],
   "source": [
    "len(L)"
   ]
  },
  {
   "cell_type": "code",
   "execution_count": 222,
   "id": "1d44cb5d-69a0-49f0-9092-8149927e412d",
   "metadata": {},
   "outputs": [],
   "source": [
    "L.pop()"
   ]
  },
  {
   "cell_type": "code",
   "execution_count": 223,
   "id": "204a0055-8487-44d2-af3a-0c0628197976",
   "metadata": {},
   "outputs": [
    {
     "name": "stdout",
     "output_type": "stream",
     "text": [
      "4->3->200->2->1->0->100\n"
     ]
    }
   ],
   "source": [
    "print(L)"
   ]
  },
  {
   "cell_type": "code",
   "execution_count": 224,
   "id": "533b78d9-dfdb-4103-9635-6754e8bbebc8",
   "metadata": {},
   "outputs": [],
   "source": [
    "L.delete_head()"
   ]
  },
  {
   "cell_type": "code",
   "execution_count": 225,
   "id": "4c0370d3-5f7e-44bc-8885-acf0ac6ed612",
   "metadata": {},
   "outputs": [
    {
     "name": "stdout",
     "output_type": "stream",
     "text": [
      "3->200->2->1->0->100\n"
     ]
    }
   ],
   "source": [
    "print(L)"
   ]
  },
  {
   "cell_type": "code",
   "execution_count": 226,
   "id": "f9e062c5-a2c0-4167-b7b5-b94589a7b230",
   "metadata": {},
   "outputs": [
    {
     "data": {
      "text/plain": [
       "1"
      ]
     },
     "execution_count": 226,
     "metadata": {},
     "output_type": "execute_result"
    }
   ],
   "source": [
    "L.search(200)"
   ]
  },
  {
   "cell_type": "code",
   "execution_count": 227,
   "id": "332d98a9-957d-4825-9c63-f3f4ff2bedcb",
   "metadata": {},
   "outputs": [
    {
     "data": {
      "text/plain": [
       "5"
      ]
     },
     "execution_count": 227,
     "metadata": {},
     "output_type": "execute_result"
    }
   ],
   "source": [
    "L.search(100)"
   ]
  },
  {
   "cell_type": "code",
   "execution_count": 228,
   "id": "8606d1fa-3ea7-42ab-8264-70316778cef6",
   "metadata": {},
   "outputs": [
    {
     "data": {
      "text/plain": [
       "1"
      ]
     },
     "execution_count": 228,
     "metadata": {},
     "output_type": "execute_result"
    }
   ],
   "source": [
    "L[3]"
   ]
  },
  {
   "cell_type": "code",
   "execution_count": 229,
   "id": "7c696d7a-c342-494f-9171-2f76685c8dca",
   "metadata": {},
   "outputs": [
    {
     "name": "stdout",
     "output_type": "stream",
     "text": [
      "3->200->2->1->0->100\n"
     ]
    }
   ],
   "source": [
    "print(L)"
   ]
  },
  {
   "cell_type": "code",
   "execution_count": 230,
   "id": "767fcf67-21db-4eb1-8789-b21fc632823b",
   "metadata": {},
   "outputs": [],
   "source": [
    "L.replace_maximum_value(201)"
   ]
  },
  {
   "cell_type": "code",
   "execution_count": 231,
   "id": "aa3b79ea-0ea6-47c4-b51d-b05b1ec06f11",
   "metadata": {},
   "outputs": [
    {
     "name": "stdout",
     "output_type": "stream",
     "text": [
      "3->201->2->1->0->100\n"
     ]
    }
   ],
   "source": [
    "print(L)"
   ]
  },
  {
   "cell_type": "code",
   "execution_count": 232,
   "id": "4e4ba037-c5cf-4b9f-b14d-bbec5cd27b64",
   "metadata": {},
   "outputs": [
    {
     "name": "stdout",
     "output_type": "stream",
     "text": [
      "302\n"
     ]
    }
   ],
   "source": [
    "L.sum_odd_nodes()"
   ]
  },
  {
   "cell_type": "code",
   "execution_count": 233,
   "id": "27040109-8f75-4249-b608-6a97ca1affb9",
   "metadata": {},
   "outputs": [],
   "source": [
    "L.reverse_linkedlist()"
   ]
  },
  {
   "cell_type": "code",
   "execution_count": 234,
   "id": "3dd21e85-72ee-4386-9d76-bf8291459513",
   "metadata": {},
   "outputs": [
    {
     "name": "stdout",
     "output_type": "stream",
     "text": [
      "100->0->1->2->201->3\n"
     ]
    }
   ],
   "source": [
    "print(L)"
   ]
  },
  {
   "cell_type": "code",
   "execution_count": null,
   "id": "649402c8-adfb-4be7-bcf3-b29f6260794d",
   "metadata": {},
   "outputs": [],
   "source": []
  },
  {
   "cell_type": "code",
   "execution_count": null,
   "id": "525fa82b-2dbf-4fec-bf76-93a701fa0292",
   "metadata": {},
   "outputs": [],
   "source": []
  }
 ],
 "metadata": {
  "kernelspec": {
   "display_name": "Python 3 (ipykernel)",
   "language": "python",
   "name": "python3"
  },
  "language_info": {
   "codemirror_mode": {
    "name": "ipython",
    "version": 3
   },
   "file_extension": ".py",
   "mimetype": "text/x-python",
   "name": "python",
   "nbconvert_exporter": "python",
   "pygments_lexer": "ipython3",
   "version": "3.11.1"
  }
 },
 "nbformat": 4,
 "nbformat_minor": 5
}
