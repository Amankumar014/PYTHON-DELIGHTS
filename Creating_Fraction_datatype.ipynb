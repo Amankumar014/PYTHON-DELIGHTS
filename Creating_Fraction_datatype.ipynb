{
 "cells": [
  {
   "cell_type": "code",
   "execution_count": 4,
   "id": "cfbcd677-800e-45c8-add1-307db5d154e4",
   "metadata": {},
   "outputs": [],
   "source": [
    "class Fraction:\n",
    "\n",
    "    def __init__(self,numerator,denominator):\n",
    "        self.num = numerator\n",
    "        self.den = denominator\n",
    "\n",
    "    # *************** printing the fraction *****************\n",
    "    \n",
    "    def __str__(self):\n",
    "        return \"{}/{}\".format(self.num , self.den)\n",
    "\n",
    "    # ************** adding fractions **********************\n",
    "\n",
    "    def __add__(self,next):\n",
    "        val_num = self.num * next.den + next.num * self.den\n",
    "        val_den = self.den * next.den\n",
    "\n",
    "        return \"{}/{}\".format(val_num , val_den)\n",
    "\n",
    "    # ************* fraction substraction *******************\n",
    "\n",
    "    def __sub__(self,next):\n",
    "        val_num = self.num * next.den - next.num * self.den\n",
    "        val_den = self.den * next.den\n",
    "\n",
    "        return \"{}/{}\".format(val_num , val_den)\n",
    "\n",
    "    # ******************* fraction multiplication **************\n",
    "\n",
    "    def __mul__(self,next):\n",
    "\n",
    "        val_num = self.num * next.num\n",
    "        val_den = self.den * next.den\n",
    "\n",
    "        return \"{}/{}\".format(val_num , val_den)\n",
    "\n",
    "    # ************** fraction division ************************\n",
    "\n",
    "    def __truediv__(self,next):\n",
    "\n",
    "        val_num = self.num * next.den\n",
    "        val_den = self.den * next.num\n",
    "\n",
    "        return \"{}/{}\".format(val_num , val_den)"
   ]
  },
  {
   "cell_type": "code",
   "execution_count": 11,
   "id": "19230d49-d667-48a7-a648-debc0c3b25e1",
   "metadata": {},
   "outputs": [],
   "source": [
    "a = Fraction(2,3)\n",
    "b = Fraction(4,5)"
   ]
  },
  {
   "cell_type": "code",
   "execution_count": 12,
   "id": "ccb8f63a-c0fb-4832-bf4c-a56bf8f9be0c",
   "metadata": {},
   "outputs": [
    {
     "name": "stdout",
     "output_type": "stream",
     "text": [
      "22/15\n"
     ]
    }
   ],
   "source": [
    "print(a+b)"
   ]
  },
  {
   "cell_type": "code",
   "execution_count": null,
   "id": "afa4b75b-d139-4e5c-96c0-e9671bafd921",
   "metadata": {},
   "outputs": [],
   "source": []
  }
 ],
 "metadata": {
  "kernelspec": {
   "display_name": "Python 3 (ipykernel)",
   "language": "python",
   "name": "python3"
  },
  "language_info": {
   "codemirror_mode": {
    "name": "ipython",
    "version": 3
   },
   "file_extension": ".py",
   "mimetype": "text/x-python",
   "name": "python",
   "nbconvert_exporter": "python",
   "pygments_lexer": "ipython3",
   "version": "3.11.1"
  }
 },
 "nbformat": 4,
 "nbformat_minor": 5
}
