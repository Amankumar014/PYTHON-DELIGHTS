{
 "cells": [
  {
   "cell_type": "markdown",
   "id": "0f15de38-f482-4cdd-abaf-c6d14ca95a6a",
   "metadata": {},
   "source": [
    "Ctypes is a python library to use C language functions\n",
    "\n",
    "Here we are going to implement certain List Functions by creating our own functions and using them in python list.\n",
    "* 1. create List\n",
    "  2. Len\n",
    "  3. append\n",
    "  4. print\n",
    "  5. indexing\n",
    "  6. pop\n",
    "  7. clear\n",
    "  8. find\n",
    "  9. insert\n",
    "  10. delete\n",
    "  11. remove"
   ]
  },
  {
   "cell_type": "code",
   "execution_count": 224,
   "id": "7cb6bbc8-f65a-4146-81ff-95750597b3bf",
   "metadata": {},
   "outputs": [],
   "source": [
    "import ctypes"
   ]
  },
  {
   "cell_type": "code",
   "execution_count": 225,
   "id": "cb91eb1a-efdd-4cad-b8bb-5c6a7ef3431e",
   "metadata": {},
   "outputs": [],
   "source": [
    "class MyList:\n",
    "\n",
    "    def __init__(self):\n",
    "        self.size = 1     # total size of the array\n",
    "        self.n = 0        # total items present in the array\n",
    "    # Create a c type array with size = self.size\n",
    "        self.A = self.__make_array(self.size) # call to create an array \n",
    "\n",
    "    def __len__(self):\n",
    "        return self.n\n",
    "\n",
    "    def __getitem__(self,index):\n",
    "        if 0<= index <self.n:\n",
    "            return self.A[index]\n",
    "        else:\n",
    "            return 'IndexError - Index out of range'\n",
    "\n",
    "    def __delitem__(self,pos):\n",
    "        # delete\n",
    "        if 0<= pos < self.n:\n",
    "            for i in range(pos , self.n-1):\n",
    "                self.A[i] = self.A[i+1]\n",
    "    \n",
    "            self.n = self.n -1 \n",
    "\n",
    "    def append(self,item):\n",
    "        if self.n == self.size:\n",
    "            # resize the list\n",
    "            self.__resize(self.size*2)\n",
    "\n",
    "        # append , if list has empty space\n",
    "        self.A[self.n] = item\n",
    "        self.n = self.n + 1\n",
    "\n",
    "    def pop(self):\n",
    "        if self.n == 0:\n",
    "            return 'Empty list'\n",
    "        print(self.A[self.n-1])\n",
    "        self.n = self.n - 1\n",
    "\n",
    "    def clear(self):\n",
    "        self.n = 0\n",
    "        self.size = 1\n",
    "\n",
    "    def find(self,item):\n",
    "        for i in range(self.n):\n",
    "            if self.A[i] == item:\n",
    "                return i\n",
    "        return 'ValueError - not in list'\n",
    "\n",
    "    def insert(self,pos ,item):\n",
    "        if self.n == self.size:\n",
    "            self.__resize(self.size*2)\n",
    "        for i in range(self.n , pos -1):\n",
    "            self.A[i] = self.A[i-1]\n",
    "        self.A[pos] = item\n",
    "        self.n = self.n + 1\n",
    "\n",
    "    def remove(self,item):\n",
    "        pos = self.find(item)\n",
    "\n",
    "        if type(pos) == int:\n",
    "            # delete\n",
    "            self.__delitem__(pos)\n",
    "        else:\n",
    "            return pos\n",
    "\n",
    "    def __resize(self,new_capacity):\n",
    "        # create a new array with new capacity\n",
    "        B = self.__make_array(new_capacity)\n",
    "        self.size = new_capacity\n",
    "        # copy the content of A to B \n",
    "        for i in range(self.n):\n",
    "            B[i] = self.A[i]\n",
    "        # reassign A\n",
    "        self.A = B\n",
    "        \n",
    "    def __str__(self):\n",
    "        # [1,2,4]\n",
    "        result = ''\n",
    "        for i in range(self.n):\n",
    "            result = result + str(self.A[i]) + ','\n",
    "        return '[' + result[:-1] + ']'\n",
    "\n",
    "    def __make_array(self,capacity):\n",
    "        return (capacity*ctypes.py_object)()  # creates a c type array(static , referential) with size capacity"
   ]
  },
  {
   "cell_type": "code",
   "execution_count": 226,
   "id": "1c117daa-57eb-40aa-b9d8-da6a233d2afe",
   "metadata": {},
   "outputs": [],
   "source": [
    "L = MyList() # creating an object of our list"
   ]
  },
  {
   "cell_type": "code",
   "execution_count": 227,
   "id": "bd0fa89f-7680-45b5-9329-a88db7974128",
   "metadata": {},
   "outputs": [
    {
     "name": "stdout",
     "output_type": "stream",
     "text": [
      "[]\n"
     ]
    }
   ],
   "source": [
    "print(L)"
   ]
  },
  {
   "cell_type": "code",
   "execution_count": 228,
   "id": "0738fad5-164b-46bc-899f-fba9157b22bf",
   "metadata": {},
   "outputs": [],
   "source": [
    "L.append('hello')\n",
    "L.append(3.4)\n",
    "L.append(True)\n",
    "L.append(100)\n",
    "L.append('world')\n",
    "L.append(500)\n",
    "L.append('Python')"
   ]
  },
  {
   "cell_type": "code",
   "execution_count": 229,
   "id": "f3fc1f4c-4ce5-4680-94fe-1fce2ac40adc",
   "metadata": {},
   "outputs": [
    {
     "data": {
      "text/plain": [
       "7"
      ]
     },
     "execution_count": 229,
     "metadata": {},
     "output_type": "execute_result"
    }
   ],
   "source": [
    "len(L)"
   ]
  },
  {
   "cell_type": "code",
   "execution_count": 230,
   "id": "7b440ec9-0222-44fb-a2af-298202ac103d",
   "metadata": {},
   "outputs": [
    {
     "name": "stdout",
     "output_type": "stream",
     "text": [
      "[hello,3.4,True,100,world,500,Python]\n"
     ]
    }
   ],
   "source": [
    "print(L)"
   ]
  },
  {
   "cell_type": "code",
   "execution_count": 231,
   "id": "c05e40b9-ae6f-48d1-a171-f5a8dabbfbe5",
   "metadata": {},
   "outputs": [
    {
     "data": {
      "text/plain": [
       "'hello'"
      ]
     },
     "execution_count": 231,
     "metadata": {},
     "output_type": "execute_result"
    }
   ],
   "source": [
    "L[0]"
   ]
  },
  {
   "cell_type": "code",
   "execution_count": 232,
   "id": "15121dcc-387d-4a89-92a7-a28656521090",
   "metadata": {},
   "outputs": [],
   "source": [
    "del L[1]"
   ]
  },
  {
   "cell_type": "code",
   "execution_count": 233,
   "id": "07781689-e0a4-4430-b03c-13e3e1ce6e3b",
   "metadata": {},
   "outputs": [
    {
     "name": "stdout",
     "output_type": "stream",
     "text": [
      "[hello,True,100,world,500,Python]\n"
     ]
    }
   ],
   "source": [
    "print(L)"
   ]
  },
  {
   "cell_type": "code",
   "execution_count": 234,
   "id": "7e5c2a47-e47d-4155-af3f-9a6390833cf8",
   "metadata": {},
   "outputs": [
    {
     "name": "stdout",
     "output_type": "stream",
     "text": [
      "Python\n"
     ]
    }
   ],
   "source": [
    "L.pop()"
   ]
  },
  {
   "cell_type": "code",
   "execution_count": 235,
   "id": "b478881e-d7d7-41c9-9808-0f3a680e9e4a",
   "metadata": {},
   "outputs": [
    {
     "name": "stdout",
     "output_type": "stream",
     "text": [
      "[hello,True,100,world,500]\n"
     ]
    }
   ],
   "source": [
    "print(L)"
   ]
  },
  {
   "cell_type": "code",
   "execution_count": 236,
   "id": "31feb8c9-686f-427a-bf0b-0756843d9078",
   "metadata": {},
   "outputs": [
    {
     "data": {
      "text/plain": [
       "0"
      ]
     },
     "execution_count": 236,
     "metadata": {},
     "output_type": "execute_result"
    }
   ],
   "source": [
    "L.find(\"hello\")"
   ]
  },
  {
   "cell_type": "code",
   "execution_count": 237,
   "id": "c550e3ef-97ef-4eeb-9fbe-d924b6e9edd9",
   "metadata": {},
   "outputs": [],
   "source": [
    "L.insert(0,\"zero\")"
   ]
  },
  {
   "cell_type": "code",
   "execution_count": 238,
   "id": "fc4ed84c-bd70-47bd-bfad-ae98d7da046a",
   "metadata": {},
   "outputs": [
    {
     "name": "stdout",
     "output_type": "stream",
     "text": [
      "[zero,True,100,world,500,Python]\n"
     ]
    }
   ],
   "source": [
    "print(L)"
   ]
  },
  {
   "cell_type": "code",
   "execution_count": 239,
   "id": "a651b668-6c59-4d94-a0af-8cea81c54b6f",
   "metadata": {},
   "outputs": [],
   "source": [
    "L.remove(100)"
   ]
  },
  {
   "cell_type": "code",
   "execution_count": 240,
   "id": "f796cedd-5b6b-41e0-bbc2-4a223786c034",
   "metadata": {},
   "outputs": [
    {
     "name": "stdout",
     "output_type": "stream",
     "text": [
      "[zero,True,world,500,Python]\n"
     ]
    }
   ],
   "source": [
    "print(L)"
   ]
  },
  {
   "cell_type": "code",
   "execution_count": 241,
   "id": "8e5f9560-4f20-4d4b-9bd8-a03711c63486",
   "metadata": {},
   "outputs": [
    {
     "data": {
      "text/plain": [
       "'ValueError - not in list'"
      ]
     },
     "execution_count": 241,
     "metadata": {},
     "output_type": "execute_result"
    }
   ],
   "source": [
    "L.remove(\"santa\")"
   ]
  }
 ],
 "metadata": {
  "kernelspec": {
   "display_name": "Python 3 (ipykernel)",
   "language": "python",
   "name": "python3"
  },
  "language_info": {
   "codemirror_mode": {
    "name": "ipython",
    "version": 3
   },
   "file_extension": ".py",
   "mimetype": "text/x-python",
   "name": "python",
   "nbconvert_exporter": "python",
   "pygments_lexer": "ipython3",
   "version": "3.11.1"
  }
 },
 "nbformat": 4,
 "nbformat_minor": 5
}
